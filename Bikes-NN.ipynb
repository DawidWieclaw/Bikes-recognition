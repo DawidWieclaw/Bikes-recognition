{
  "cells": [
    {
      "cell_type": "code",
      "source": [
        "from google.colab import drive\n",
        "drive.mount('/content/drive')"
      ],
      "metadata": {
        "id": "VfMwyXUZMepV"
      },
      "execution_count": null,
      "outputs": []
    },
    {
      "cell_type": "code",
      "source": [
        "import matplotlib.pyplot as plt\n",
        "import numpy as np\n",
        "import cv2\n",
        "import os"
      ],
      "metadata": {
        "id": "H3h9TQAoRotf"
      },
      "execution_count": null,
      "outputs": []
    },
    {
      "cell_type": "code",
      "source": [
        "pathMTB = \"drive/MyDrive/MTB/\"\n",
        "pathROAD = \"drive/MyDrive/ROAD/\"\n",
        "pathCITY = \"drive/MyDrive/CITY/\""
      ],
      "metadata": {
        "id": "hW_nHHjLWESA"
      },
      "execution_count": null,
      "outputs": []
    },
    {
      "cell_type": "code",
      "source": [
        "shapes = set()\n",
        "for fileName in os.listdir(pathMTB):\n",
        "  f = cv2.imread(pathMTB + fileName)\n",
        "  if not f is None:\n",
        "    shapes.add(f.shape)\n",
        "for fileName in os.listdir(pathROAD):\n",
        "  f = cv2.imread(pathROAD + fileName)\n",
        "  if not f is None:\n",
        "    shapes.add(f.shape)\n",
        "for fileName in os.listdir(pathCITY):\n",
        "  f = cv2.imread(pathCITY + fileName)\n",
        "  if not f is None:\n",
        "    shapes.add(f.shape)"
      ],
      "metadata": {
        "id": "xYz_wze4ISKi"
      },
      "execution_count": null,
      "outputs": []
    },
    {
      "cell_type": "code",
      "source": [
        "len(shapes)"
      ],
      "metadata": {
        "id": "wIXmgQZKMHcn"
      },
      "execution_count": null,
      "outputs": []
    },
    {
      "cell_type": "code",
      "source": [
        "minX = 10000\n",
        "minY = 10000\n",
        "Zs = set()\n",
        "for x,y,z in shapes:\n",
        "  minX = min(x, minX)\n",
        "  minY = min(y, minY)\n",
        "  Zs.add(z)\n",
        "minX, minY, Zs"
      ],
      "metadata": {
        "id": "2TdgU2ShKs1K"
      },
      "execution_count": null,
      "outputs": []
    },
    {
      "cell_type": "code",
      "source": [
        "#final size of images\n",
        "minX = 160\n",
        "minY = 160"
      ],
      "metadata": {
        "id": "ZgZbNf7BMdl8"
      },
      "execution_count": null,
      "outputs": []
    },
    {
      "cell_type": "code",
      "source": [
        "MTB = []\n",
        "ROAD = []\n",
        "CITY = []\n",
        "dim = (minX, minY)\n",
        "for fileName in os.listdir(pathMTB):\n",
        "  image = cv2.imread(pathMTB + fileName)\n",
        "  if image is None:\n",
        "    continue\n",
        "  image = cv2.resize(src = image, dsize = dim, interpolation = cv2.INTER_LANCZOS4)\n",
        "  MTB.append(np.array(image/255., dtype = np.float16))\n",
        "\n",
        "\n",
        "for fileName in os.listdir(pathROAD):\n",
        "  image = cv2.imread(pathROAD + fileName)\n",
        "  if image is None:\n",
        "    continue\n",
        "  image = cv2.resize(src = image, dsize = dim, interpolation = cv2.INTER_LANCZOS4)\n",
        "  ROAD.append(np.array(image/255., dtype = np.float16))\n",
        "\n",
        "for fileName in os.listdir(pathCITY):\n",
        "  image = cv2.imread(pathCITY + fileName)\n",
        "  if image is None:\n",
        "    continue\n",
        "  image = cv2.resize(src = image, dsize = dim, interpolation = cv2.INTER_LANCZOS4)\n",
        "  CITY.append(np.array(image/255., dtype = np.float16))"
      ],
      "metadata": {
        "id": "sytse50LHboE"
      },
      "execution_count": null,
      "outputs": []
    },
    {
      "cell_type": "code",
      "source": [
        "MTB = np.array(MTB, dtype = np.float16)\n",
        "ROAD = np.array(ROAD, dtype = np.float16)\n",
        "CITY = np.array(CITY, dtype = np.float16)"
      ],
      "metadata": {
        "id": "fCFfPk0dHuTd"
      },
      "execution_count": null,
      "outputs": []
    },
    {
      "cell_type": "code",
      "source": [
        "for i in range(5):\n",
        "  plt.imshow(MTB[i].astype(np.float32))\n",
        "  plt.show()\n",
        "for i in range(5):\n",
        "  plt.imshow(ROAD[i].astype(np.float32))\n",
        "  plt.show()\n",
        "for i in range(5):\n",
        "  plt.imshow(CITY[i].astype(np.float32))\n",
        "  plt.show()"
      ],
      "metadata": {
        "id": "3vZLSrOeZ2g8"
      },
      "execution_count": null,
      "outputs": []
    },
    {
      "cell_type": "code",
      "source": [
        "minAmount = min(MTB.shape[0], ROAD.shape[0], CITY.shape[0])\n",
        "MTB.shape, ROAD.shape, CITY.shape, minAmount"
      ],
      "metadata": {
        "id": "EtIcWn1_N3Fy"
      },
      "execution_count": null,
      "outputs": []
    },
    {
      "cell_type": "code",
      "source": [
        "import tensorflow as tf\n",
        "from tensorflow import keras\n",
        "from tensorflow.keras import layers\n",
        "from tensorflow.keras.models import load_model"
      ],
      "metadata": {
        "id": "mFhj98OsSJ_d"
      },
      "execution_count": null,
      "outputs": []
    },
    {
      "cell_type": "code",
      "source": [
        "#Balanced dataset\n",
        "X = tf.constant(np.concatenate((MTB[:minAmount], ROAD[:minAmount],CITY[:minAmount])), dtype = tf.float16)\n",
        "Y = tf.constant(np.concatenate((np.zeros(minAmount), np.zeros(minAmount)+1, np.zeros(minAmount)+2)))\n",
        "Y = tf.keras.utils.to_categorical(Y)"
      ],
      "metadata": {
        "id": "b7Zmk-jyR0l8"
      },
      "execution_count": null,
      "outputs": []
    },
    {
      "cell_type": "code",
      "source": [
        "#transfer learning example\n",
        "resnet_model = keras.models.Sequential()\n",
        "\n",
        "pretrained_model= tf.keras.applications.ResNet50(include_top=False,\n",
        "                   input_shape=(160,160,3),\n",
        "                   pooling='avg',classes=3,\n",
        "                   weights='imagenet')\n",
        "for layer in pretrained_model.layers:\n",
        "        layer.trainable=False\n",
        "\n",
        "resnet_model.add(pretrained_model)\n",
        "\n",
        "resnet_model.add(keras.layers.Flatten())\n",
        "resnet_model.add(keras.layers.Dense(512, activation='relu'))\n",
        "resnet_model.add(keras.layers.Dense(3, activation='softmax'))\n",
        "resnet_model.summary()"
      ],
      "metadata": {
        "id": "IBeEXuYeQQ4K"
      },
      "execution_count": null,
      "outputs": []
    },
    {
      "cell_type": "code",
      "source": [
        "#network from scratch\n",
        "inputs = keras.Input(shape=(X.shape[1], X.shape[2], X.shape[-1]), dtype=tf.float16)\n",
        "\n",
        "xl = layers.Conv2D(64, 3, activation=\"relu\")(inputs)\n",
        "xl = layers.Conv2D(64, 3, activation=\"relu\")(xl)\n",
        "xl = layers.Conv2D(64, 3, activation=\"relu\")(xl)\n",
        "xl = layers.MaxPooling2D(3)(xl)\n",
        "xl = layers.Conv2D(32, 3, activation=\"relu\")(xl)\n",
        "xl = layers.Conv2D(32, 3, activation=\"relu\")(xl)\n",
        "xl = layers.Conv2D(32, 3, activation=\"relu\")(xl)\n",
        "xl = layers.MaxPooling2D(3)(xl)\n",
        "xl = layers.Conv2D(16, 3, activation=\"relu\")(xl)\n",
        "xl = layers.Conv2D(16, 3, activation=\"relu\")(xl)\n",
        "xl = layers.Conv2D(16, 3, activation=\"relu\")(xl)\n",
        "xl = layers.MaxPooling2D(3)(xl)\n",
        "#xl = layers.Conv2D(16, 3, activation=\"relu\")(xl)\n",
        "xl = layers.Flatten()(xl)\n",
        "xl = dense = layers.Dense(64, activation=\"relu\")(xl)\n",
        "xl = dense = layers.Dense(8, activation=\"relu\")(xl)\n",
        "outputs = dense = layers.Dense(3)(xl)\n",
        "resnet_model = keras.Model(inputs=inputs, outputs=outputs, name=\"bikes\")\n",
        "resnet_model.summary()"
      ],
      "metadata": {
        "id": "6kxAOW-uXKDp"
      },
      "execution_count": null,
      "outputs": []
    },
    {
      "cell_type": "code",
      "source": [
        "resnet_model.compile(optimizer=keras.optimizers.Adam(0.001),loss='categorical_crossentropy',metrics=['accuracy'])"
      ],
      "metadata": {
        "id": "UGGUNNVeTl2M"
      },
      "execution_count": null,
      "outputs": []
    },
    {
      "cell_type": "code",
      "source": [
        "resnet_model.fit(X, Y, batch_size=64, epochs=5, validation_split = 0.1)"
      ],
      "metadata": {
        "id": "3R7_-hHUTr1Y"
      },
      "execution_count": null,
      "outputs": []
    },
    {
      "cell_type": "code",
      "source": [
        " "
      ],
      "metadata": {
        "id": "-0T12IDiUhps"
      },
      "execution_count": null,
      "outputs": []
    }
  ],
  "metadata": {
    "colab": {
      "collapsed_sections": [],
      "name": "Witamy w Colaboratory",
      "provenance": []
    },
    "kernelspec": {
      "display_name": "Python 3",
      "name": "python3"
    },
    "accelerator": "GPU"
  },
  "nbformat": 4,
  "nbformat_minor": 0
}